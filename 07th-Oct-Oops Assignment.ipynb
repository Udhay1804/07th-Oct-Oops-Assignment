{
 "cells": [
  {
   "cell_type": "markdown",
   "id": "2d52cc91-ba3e-4a80-b649-36d5b9fa5260",
   "metadata": {},
   "source": [
    "Problem 1: Bank Account Create a class representing a bank account with attributes like account number, account holder name, and balance. Implement methods to deposit and withdraw money from the account."
   ]
  },
  {
   "cell_type": "code",
   "execution_count": 17,
   "id": "e6e9f935-8019-4a5a-b036-523c49d4ce5f",
   "metadata": {},
   "outputs": [
    {
     "name": "stdout",
     "output_type": "stream",
     "text": [
      "Account Number: 12354,\n",
      "Name: Udaya \n",
      "Your Balance: $1000\n"
     ]
    },
    {
     "name": "stdin",
     "output_type": "stream",
     "text": [
      "Enter amount to deposit:  5000000000\n"
     ]
    },
    {
     "name": "stdout",
     "output_type": "stream",
     "text": [
      "Deposit of $5000000000.0 successful. New balance is $5000001000.0.\n"
     ]
    },
    {
     "name": "stdin",
     "output_type": "stream",
     "text": [
      "Enter how much you want to withdraw:  1\n"
     ]
    },
    {
     "name": "stdout",
     "output_type": "stream",
     "text": [
      "Withdrawal of $1.0 successful. New balance is $5000000999.0.\n",
      "Account Number: 12354,\n",
      "Name: Udaya \n",
      "Your Balance: $5000000999.0\n"
     ]
    }
   ],
   "source": [
    "class Bank:\n",
    "    def __init__(self, account_number, name, balance=0):\n",
    "        self.account_number = account_number\n",
    "        self.name = name\n",
    "        self.balance = balance\n",
    "\n",
    "    def deposit(self):\n",
    "        amount = float(input('Enter amount to deposit: '))\n",
    "        self.balance += amount\n",
    "        print(f'Deposit of ${amount} successful. New balance is ${self.balance}.')\n",
    "\n",
    "    def withdraw(self):\n",
    "        amount = float(input('Enter how much you want to withdraw: '))\n",
    "        if amount > self.balance:\n",
    "            print('Insufficient Balance')\n",
    "        else:\n",
    "            self.balance -= amount\n",
    "            print(f'Withdrawal of ${amount} successful. New balance is ${self.balance}.')\n",
    "\n",
    "    def display(self):\n",
    "        print(f'Account Number: {self.account_number},\\nName: {self.name} \\nYour Balance: ${self.balance}')\n",
    "\n",
    "account = Bank('12354','Udaya',1000)\n",
    "account.display()\n",
    "account.deposit()\n",
    "account.withdraw()\n",
    "account.display()"
   ]
  },
  {
   "cell_type": "markdown",
   "id": "ce073365-4b32-4730-9a88-e732fe5c0ee9",
   "metadata": {},
   "source": [
    "Problem 2: Employee Management Create a class representing an employee with attributes like employee ID, name, and salary. Implement methods to calculate the yearly bonus and display employee details."
   ]
  },
  {
   "cell_type": "code",
   "execution_count": 20,
   "id": "58d2449e-4d6d-44f8-9943-215d4eb067f7",
   "metadata": {},
   "outputs": [
    {
     "name": "stdout",
     "output_type": "stream",
     "text": [
      "Employee ID: CG234\n",
      "Name: UDAYA\n",
      "Salary: $50000\n",
      "Yearly Bonus: $5000.0\n"
     ]
    }
   ],
   "source": [
    "class Employee:\n",
    "    def __init__(self, employee_id, name, salary):\n",
    "        self.employee_id = employee_id\n",
    "        self.name = name\n",
    "        self.salary = salary\n",
    "\n",
    "    def calculate_bonus(self, bonus_percentage):\n",
    "        bonus_amount = (bonus_percentage / 100) * self.salary\n",
    "        return bonus_amount\n",
    "\n",
    "    def display_details(self):\n",
    "        details = f\"Employee ID: {self.employee_id}\\nName: {self.name}\\nSalary: ${self.salary}\"\n",
    "        return details\n",
    "\n",
    "emp = Employee(\"CG234\", \"UDAYA\", 50000)\n",
    "print(emp.display_details())\n",
    "bonus_percentage = 10 \n",
    "bonus_amount = emp.calculate_bonus(bonus_percentage)\n",
    "print(f\"Yearly Bonus: ${bonus_amount}\")"
   ]
  },
  {
   "cell_type": "markdown",
   "id": "1a1a3665-3d58-4d5d-bbe5-1152a690714a",
   "metadata": {},
   "source": [
    "Problem 3: Vehicle Rental Create a class representing a vehicle rental system. Implement methods to rent a vehicle, return a vehicle, and display available vehicles."
   ]
  },
  {
   "cell_type": "code",
   "execution_count": 2,
   "id": "cbb8de8a-86c1-4710-9c13-a38f199d4864",
   "metadata": {},
   "outputs": [
    {
     "name": "stdout",
     "output_type": "stream",
     "text": [
      "Available Vehicles:\n",
      "ID: V001, Type: Sedan\n",
      "ID: V002, Type: SUV\n",
      "ID: V003, Type: Truck\n",
      "Vehicle V001 rented successfully.\n",
      "Vehicle V002 rented successfully.\n",
      "Available Vehicles:\n",
      "ID: V003, Type: Truck\n",
      "Vehicle V001 returned successfully.\n",
      "Available Vehicles:\n",
      "ID: V001, Type: Sedan\n",
      "ID: V003, Type: Truck\n"
     ]
    }
   ],
   "source": [
    "class Vehicle:\n",
    "    def __init__(self, vehicle_id, vehicle_type, is_rented=False):\n",
    "        self.vehicle_id = vehicle_id\n",
    "        self.vehicle_type = vehicle_type\n",
    "        self.is_rented = is_rented\n",
    "\n",
    "class VehicleRental:\n",
    "    def __init__(self):\n",
    "        self.vehicles = []\n",
    "\n",
    "    def add_vehicle(self, vehicle_id, vehicle_type):\n",
    "        new_vehicle = Vehicle(vehicle_id, vehicle_type)\n",
    "        self.vehicles.append(new_vehicle)\n",
    "\n",
    "    def rent_vehicle(self, vehicle_id):\n",
    "        for vehicle in self.vehicles:\n",
    "            if vehicle.vehicle_id == vehicle_id:\n",
    "                if not vehicle.is_rented:\n",
    "                    vehicle.is_rented = True\n",
    "                    print(f\"Vehicle {vehicle_id} rented successfully.\")\n",
    "                else:\n",
    "                    print(f\"Vehicle {vehicle_id} is already rented.\")\n",
    "                return\n",
    "        print(f\"Vehicle {vehicle_id} not found.\")\n",
    "\n",
    "    def return_vehicle(self, vehicle_id):\n",
    "        for vehicle in self.vehicles:\n",
    "            if vehicle.vehicle_id == vehicle_id:\n",
    "                if vehicle.is_rented:\n",
    "                    vehicle.is_rented = False\n",
    "                    print(f\"Vehicle {vehicle_id} returned successfully.\")\n",
    "                else:\n",
    "                    print(f\"Vehicle {vehicle_id} is not rented.\")\n",
    "                return\n",
    "        print(f\"Vehicle {vehicle_id} not found.\")\n",
    "\n",
    "    def display_available_vehicles(self):\n",
    "        available_vehicles = [vehicle for vehicle in self.vehicles if not vehicle.is_rented]\n",
    "        if not available_vehicles:\n",
    "            print(\"No vehicles available.\")\n",
    "        else:\n",
    "            print(\"Available Vehicles:\")\n",
    "            for vehicle in available_vehicles:\n",
    "                print(f\"ID: {vehicle.vehicle_id}, Type: {vehicle.vehicle_type}\")\n",
    "\n",
    "                \n",
    "rental_system = VehicleRental()\n",
    "rental_system.add_vehicle(\"V001\", \"Sedan\")\n",
    "rental_system.add_vehicle(\"V002\", \"SUV\")\n",
    "rental_system.add_vehicle(\"V003\", \"Truck\")\n",
    "rental_system.display_available_vehicles()\n",
    "rental_system.rent_vehicle(\"V001\")\n",
    "rental_system.rent_vehicle(\"V002\")\n",
    "rental_system.display_available_vehicles()\n",
    "rental_system.return_vehicle(\"V001\")\n",
    "rental_system.display_available_vehicles()"
   ]
  },
  {
   "cell_type": "markdown",
   "id": "c3afe362-57ca-40ab-849b-ea76acf44e06",
   "metadata": {},
   "source": [
    "Problem 4: Library Catalog Create classes representing a library and a book. Implement methods to add books to the library, borrow books, and display available books."
   ]
  },
  {
   "cell_type": "code",
   "execution_count": 5,
   "id": "5894b92d-05ea-4e04-a024-6eca3b6f73a2",
   "metadata": {},
   "outputs": [
    {
     "name": "stdout",
     "output_type": "stream",
     "text": [
      "Available books in the library:\n",
      "- The Great Gatsby by F. Scott Fitzgerald (1 available)\n",
      "- To Kill a Mockingbird by Harper Lee (1 available)\n",
      "You have borrowed 'To Kill a Mockingbird'. Enjoy reading!\n",
      "Available books in the library:\n",
      "- The Great Gatsby by F. Scott Fitzgerald (1 available)\n",
      "Books by harper lee:\n",
      "- To Kill a Mockingbird by Harper Lee (0 available)\n",
      "Thank you for returning 'To Kill a Mockingbird'.\n",
      "Available books in the library:\n",
      "- The Great Gatsby by F. Scott Fitzgerald (1 available)\n",
      "- To Kill a Mockingbird by Harper Lee (1 available)\n"
     ]
    }
   ],
   "source": [
    "class Book:\n",
    "    def __init__(self, title, author):\n",
    "        self.title = title\n",
    "        self.author = author\n",
    "        self.num_copies = 1\n",
    "        self.num_borrowed = 0\n",
    "\n",
    "    def __str__(self):\n",
    "        return f\"{self.title} by {self.author} ({self.num_copies - self.num_borrowed} available)\"\n",
    "\n",
    "    def borrow(self):\n",
    "        if self.num_borrowed < self.num_copies:\n",
    "            self.num_borrowed += 1\n",
    "            return True\n",
    "        else:\n",
    "            print(\"Sorry, all copies of this book are currently borrowed.\")\n",
    "            return False\n",
    "\n",
    "    def return_book(self):\n",
    "        if self.num_borrowed > 0:\n",
    "            self.num_borrowed -= 1\n",
    "            return True\n",
    "        else:\n",
    "            print(\"There are no borrowed copies of this book to return.\")\n",
    "            return False\n",
    "\n",
    "\n",
    "class Library:\n",
    "    def __init__(self):\n",
    "        self.books = []\n",
    "\n",
    "    def add_book(self, book):\n",
    "        existing_book = next((b for b in self.books if b.title == book.title and b.author == book.author), None)\n",
    "        if existing_book:\n",
    "            existing_book.num_copies += 1\n",
    "        else:\n",
    "            self.books.append(book)\n",
    "\n",
    "    def borrow_book(self, title):\n",
    "        for book in self.books:\n",
    "            if book.title.lower() == title.lower():\n",
    "                if book.borrow():\n",
    "                    print(f\"You have borrowed '{book.title}'. Enjoy reading!\")\n",
    "                    return\n",
    "                else:\n",
    "                    return\n",
    "        print(f\"Sorry, '{title}' is not available in the library.\")\n",
    "\n",
    "    def return_book(self, title):\n",
    "        for book in self.books:\n",
    "            if book.title.lower() == title.lower():\n",
    "                if book.return_book():\n",
    "                    print(f\"Thank you for returning '{book.title}'.\")\n",
    "                    return\n",
    "                else:\n",
    "                    return\n",
    "        print(f\"Couldn't find '{title}' in the library's collection.\")\n",
    "\n",
    "    def search_by_author(self, author):\n",
    "        author_books = [book for book in self.books if book.author.lower() == author.lower()]\n",
    "        if author_books:\n",
    "            print(f\"Books by {author}:\")\n",
    "            for book in author_books:\n",
    "                print(\"-\", book)\n",
    "        else:\n",
    "            print(f\"No books found by {author} in the library.\")\n",
    "\n",
    "    def display_available_books(self):\n",
    "        available_books = [book for book in self.books if book.num_borrowed < book.num_copies]\n",
    "        if available_books:\n",
    "            print(\"Available books in the library:\")\n",
    "            for book in available_books:\n",
    "                print(\"-\", book)\n",
    "        else:\n",
    "            print(\"There are no available books in the library at the moment.\")\n",
    "    \n",
    "book1 = Book(\"The Great Gatsby\", \"F. Scott Fitzgerald\")\n",
    "book2 = Book(\"To Kill a Mockingbird\", \"Harper Lee\")\n",
    "library = Library()\n",
    "library.add_book(book1)\n",
    "library.add_book(book2)\n",
    "library.display_available_books()\n",
    "library.borrow_book(\"To Kill a Mockingbird\")\n",
    "library.display_available_books()\n",
    "library.search_by_author(\"harper lee\")\n",
    "library.return_book(\"To Kill a Mockingbird\")\n",
    "library.display_available_books()"
   ]
  },
  {
   "cell_type": "markdown",
   "id": "146d281f-f2c6-469d-98ad-6c181db09cb0",
   "metadata": {},
   "source": [
    "Problem 5: Product Inventory Create classes representing a product and an inventory system. Implement methods to add products to the inventory, update product quantity, and display available products."
   ]
  },
  {
   "cell_type": "code",
   "execution_count": 1,
   "id": "6c05f689-978e-4c78-b5b3-7b9029eb9927",
   "metadata": {},
   "outputs": [
    {
     "name": "stdout",
     "output_type": "stream",
     "text": [
      "Available products:\n",
      "Laptop - $1000 (10 available)\n",
      "Mouse - $20 (50 available)\n",
      "Keyboard - $50 (30 available)\n",
      "Available products:\n",
      "Laptop - $1000 (10 available)\n",
      "Mouse - $20 (40 available)\n",
      "Keyboard - $50 (20 available)\n"
     ]
    }
   ],
   "source": [
    "class Product:\n",
    "    def __init__(self, name, price, quantity):\n",
    "        self.name = name\n",
    "        self.price = price\n",
    "        self.quantity = quantity\n",
    "\n",
    "    def update_quantity(self, new_quantity):\n",
    "        self.quantity = new_quantity\n",
    "\n",
    "    def __str__(self):\n",
    "        return f\"{self.name} - ${self.price} ({self.quantity} available)\"\n",
    "\n",
    "\n",
    "class Inventory:\n",
    "    def __init__(self):\n",
    "        self.products = []\n",
    "\n",
    "    def add_product(self, product):\n",
    "        self.products.append(product)\n",
    "\n",
    "    def update_product_quantity(self, product_name, new_quantity):\n",
    "        for product in self.products:\n",
    "            if product.name == product_name:\n",
    "                product.update_quantity(new_quantity)\n",
    "                return True\n",
    "        return False\n",
    "\n",
    "    def display_available_products(self):\n",
    "        if not self.products:\n",
    "            print(\"No products available\")\n",
    "        else:\n",
    "            print(\"Available products:\")\n",
    "            for product in self.products:\n",
    "                print(product)\n",
    "\n",
    "inventory = Inventory()\n",
    "inventory.add_product(Product(\"Laptop\", 1000, 10))\n",
    "inventory.add_product(Product(\"Mouse\", 20, 50))\n",
    "inventory.add_product(Product(\"Keyboard\", 50, 30))\n",
    "\n",
    "inventory.display_available_products()\n",
    "\n",
    "inventory.update_product_quantity(\"Mouse\", 40)\n",
    "inventory.update_product_quantity(\"Keyboard\", 20)\n",
    "\n",
    "inventory.display_available_products()"
   ]
  },
  {
   "cell_type": "markdown",
   "id": "bb105fec-1f54-44c2-a82b-d4613603b659",
   "metadata": {},
   "source": [
    "Problem 6: Shape Calculation Create a class representing a shape with attributes like length, width, and height. Implement methods to calculate the area and perimeter of the shape."
   ]
  },
  {
   "cell_type": "code",
   "execution_count": 2,
   "id": "72fb05af-cbf7-4030-a4d2-ed8aacbdf491",
   "metadata": {},
   "outputs": [
    {
     "name": "stdout",
     "output_type": "stream",
     "text": [
      "Rectangle:\n",
      "Area: 20\n",
      "Perimeter: 18\n",
      "\n",
      "Square:\n",
      "Area: 25\n",
      "Perimeter: 20\n",
      "\n",
      "Triangle:\n",
      "Area: 6.0\n",
      "Perimeter: 12\n"
     ]
    }
   ],
   "source": [
    "class Shape:\n",
    "    def __init__(self, length=None, width=None, height=None):\n",
    "        self.length = length\n",
    "        self.width = width\n",
    "        self.height = height\n",
    "\n",
    "    def calculate_area(self):\n",
    "        raise NotImplementedError(\"Subclasses must implement calculate_area method.\")\n",
    "\n",
    "    def calculate_perimeter(self):\n",
    "        raise NotImplementedError(\"Subclasses must implement calculate_perimeter method.\")\n",
    "\n",
    "\n",
    "class Rectangle(Shape):\n",
    "    def __init__(self, length, width):\n",
    "        super().__init__(length, width)\n",
    "\n",
    "    def calculate_area(self):\n",
    "        return self.length * self.width\n",
    "\n",
    "    def calculate_perimeter(self):\n",
    "        return 2 * (self.length + self.width)\n",
    "\n",
    "\n",
    "class Square(Rectangle):\n",
    "    def __init__(self, side):\n",
    "        super().__init__(side, side)\n",
    "\n",
    "\n",
    "class Triangle(Shape):\n",
    "    def __init__(self, side1, side2, side3):\n",
    "        super().__init__(side1, side2, side3)\n",
    "\n",
    "    def calculate_area(self):\n",
    "        s = (self.length + self.width + self.height) / 2\n",
    "        return (s * (s - self.length) * (s - self.width) * (s - self.height)) ** 0.5\n",
    "\n",
    "    def calculate_perimeter(self):\n",
    "        return self.length + self.width + self.height\n",
    "\n",
    "\n",
    "rectangle = Rectangle(5, 4)\n",
    "print(\"Rectangle:\")\n",
    "print(\"Area:\", rectangle.calculate_area())\n",
    "print(\"Perimeter:\", rectangle.calculate_perimeter())\n",
    "\n",
    "square = Square(5)\n",
    "print(\"\\nSquare:\")\n",
    "print(\"Area:\", square.calculate_area())\n",
    "print(\"Perimeter:\", square.calculate_perimeter())\n",
    "\n",
    "triangle = Triangle(3, 4, 5)\n",
    "print(\"\\nTriangle:\")\n",
    "print(\"Area:\", triangle.calculate_area())\n",
    "print(\"Perimeter:\", triangle.calculate_perimeter())\n"
   ]
  },
  {
   "cell_type": "markdown",
   "id": "35d3ec2d-15ff-48ae-9238-131653ead3b6",
   "metadata": {},
   "source": [
    "Problem 7: Student Management Create a class representing a student with attributes like student ID, name, and grades. Implement methods to calculate the average grade and display student details."
   ]
  },
  {
   "cell_type": "code",
   "execution_count": 8,
   "id": "defaed05-3f2d-4ec7-93b7-20733d53ac27",
   "metadata": {},
   "outputs": [
    {
     "name": "stdout",
     "output_type": "stream",
     "text": [
      "Student 1 details:\n",
      "Student ID: 001\n",
      "Name: UDAYA\n",
      "Grades: [90, 85, 95]\n",
      "Average Grade: 90.0\n",
      "\n",
      "Student 2 details:\n",
      "Student ID: 002\n",
      "Name: ARUN\n",
      "Grades: [75, 80, 85]\n",
      "Average Grade: 80.0\n"
     ]
    }
   ],
   "source": [
    "class Student:\n",
    "    def __init__(self, student_id, name):\n",
    "        self.student_id = student_id\n",
    "        self.name = name\n",
    "        self.grades = []\n",
    "\n",
    "    def add_grade(self, grade):\n",
    "        self.grades.append(grade)\n",
    "\n",
    "    def calculate_average_grade(self):\n",
    "        if not self.grades:\n",
    "            return 0\n",
    "        return sum(self.grades) / len(self.grades)\n",
    "\n",
    "    def display_student_details(self):\n",
    "        print(\"Student ID:\", self.student_id)\n",
    "        print(\"Name:\", self.name)\n",
    "        print(\"Grades:\", self.grades)\n",
    "        print(\"Average Grade:\", self.calculate_average_grade())\n",
    "\n",
    "\n",
    "# Example usage:\n",
    "student1 = Student(\"001\", \"UDAYA\")\n",
    "student1.add_grade(90)\n",
    "student1.add_grade(85)\n",
    "student1.add_grade(95)\n",
    "\n",
    "student2 = Student(\"002\", \"ARUN\")\n",
    "student2.add_grade(75)\n",
    "student2.add_grade(80)\n",
    "student2.add_grade(85)\n",
    "\n",
    "print(\"Student 1 details:\")\n",
    "student1.display_student_details()\n",
    "\n",
    "print(\"\\nStudent 2 details:\")\n",
    "student2.display_student_details()\n"
   ]
  },
  {
   "cell_type": "markdown",
   "id": "50c7df7d-82b9-4841-be84-1d25a0846c89",
   "metadata": {},
   "source": [
    "Problem 8: Email Management Create a class representing an email with attributes like sender, recipient, and subject. Implement methods to send an email and display email details."
   ]
  },
  {
   "cell_type": "code",
   "execution_count": 10,
   "id": "a98415ad-b389-4fac-a538-67eef35cdc8e",
   "metadata": {},
   "outputs": [
    {
     "name": "stdout",
     "output_type": "stream",
     "text": [
      "Email sent from udayachandaran@gmail.com to pwskills@gmail.com with subject 'Test Email' and body 'This is a test email.'\n",
      "Sender: udayachandaran@gmail.com\n",
      "Recipient: pwskills@gmail.com\n",
      "Subject: Test Email\n",
      "Body: This is a test email.\n",
      "Sent: Yes\n"
     ]
    }
   ],
   "source": [
    "class Email:\n",
    "    def __init__(self, sender, recipient, subject, body):\n",
    "        self.sender = sender\n",
    "        self.recipient = recipient\n",
    "        self.subject = subject\n",
    "        self.body = body\n",
    "        self.sent = False\n",
    "\n",
    "    def send_email(self):\n",
    "        print(f\"Email sent from {self.sender} to {self.recipient} with subject '{self.subject}' and body '{self.body}'\")\n",
    "        self.sent = True\n",
    "\n",
    "    def display_email_details(self):\n",
    "        print(\"Sender:\", self.sender)\n",
    "        print(\"Recipient:\", self.recipient)\n",
    "        print(\"Subject:\", self.subject)\n",
    "        print(\"Body:\", self.body)\n",
    "        print(\"Sent:\", \"Yes\" if self.sent else \"No\")\n",
    "\n",
    "email = Email(\"udayachandaran@gmail.com\", \"pwskills@gmail.com\", \"Test Email\", \"This is a test email.\")\n",
    "email.send_email()\n",
    "email.display_email_details()"
   ]
  },
  {
   "cell_type": "markdown",
   "id": "d698f76d-0e89-4848-bf26-d4f0ad37e16a",
   "metadata": {},
   "source": [
    "Problem 9: Social Media Profile Create a class representing a social media profile with attributes like username and posts. Implement methods to add posts, display posts, and search for posts by keyword."
   ]
  },
  {
   "cell_type": "code",
   "execution_count": 15,
   "id": "906dcf20-f030-4e29-b8b5-a5ee950e94e2",
   "metadata": {},
   "outputs": [
    {
     "name": "stdout",
     "output_type": "stream",
     "text": [
      "Posts by UDAYA:\n",
      "Started learning in pwskills\n",
      "Had a great time with mentors today.\n",
      "\n",
      "Posts containing the keyword 'learn':\n",
      "Started learning in pwskills\n"
     ]
    }
   ],
   "source": [
    "class SocialMediaProfile:\n",
    "    def __init__(self, username):\n",
    "        self.username = username\n",
    "        self.posts = []\n",
    "\n",
    "    def add_post(self, post):\n",
    "        self.posts.append(post)\n",
    "\n",
    "    def display_posts(self):\n",
    "        print(f\"Posts by {self.username}:\")\n",
    "        if not self.posts:\n",
    "            print(\"No posts yet.\")\n",
    "        else:\n",
    "            for post in self.posts:\n",
    "                print(post)\n",
    "\n",
    "    def search_posts_by_keyword(self, keyword):\n",
    "        found_posts = []\n",
    "        for post in self.posts:\n",
    "            if keyword.lower() in post.lower():\n",
    "                found_posts.append(post)\n",
    "        return found_posts\n",
    "\n",
    "\n",
    "profile = SocialMediaProfile(\"UDAYA\")\n",
    "\n",
    "profile.add_post(\"Started learning in pwskills\")\n",
    "profile.add_post(\"Had a great time with mentors today.\")\n",
    "\n",
    "profile.display_posts()\n",
    "\n",
    "keyword = \"learn\"\n",
    "found_posts = profile.search_posts_by_keyword(keyword)\n",
    "if found_posts:\n",
    "    print(f\"\\nPosts containing the keyword '{keyword}':\")\n",
    "    for post in found_posts:\n",
    "        print(post)\n",
    "else:\n",
    "    print(f\"\\nNo posts found containing the keyword '{keyword}'.\")"
   ]
  },
  {
   "cell_type": "markdown",
   "id": "4ffb30e6-12a1-47a8-8b72-c6bf2b14d431",
   "metadata": {},
   "source": [
    "Problem 10: ToDo List Create a class representing a ToDo list with attributes like tasks and due dates. Implement methods to add tasks, mark tasks as completed, and display pending tasks."
   ]
  },
  {
   "cell_type": "code",
   "execution_count": null,
   "id": "1f3583ad-0f50-4ea2-a90b-950e0e773efa",
   "metadata": {},
   "outputs": [],
   "source": []
  }
 ],
 "metadata": {
  "kernelspec": {
   "display_name": "Python 3 (ipykernel)",
   "language": "python",
   "name": "python3"
  },
  "language_info": {
   "codemirror_mode": {
    "name": "ipython",
    "version": 3
   },
   "file_extension": ".py",
   "mimetype": "text/x-python",
   "name": "python",
   "nbconvert_exporter": "python",
   "pygments_lexer": "ipython3",
   "version": "3.10.8"
  }
 },
 "nbformat": 4,
 "nbformat_minor": 5
}
